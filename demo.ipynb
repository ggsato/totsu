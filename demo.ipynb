{
 "cells": [
  {
   "cell_type": "code",
   "execution_count": 1,
   "id": "210346a8-0390-4b71-81df-0e5b1e8324b9",
   "metadata": {},
   "outputs": [],
   "source": [
    "from totsu.core.super_simplex_solver import SuperSimplexSolver"
   ]
  },
  {
   "cell_type": "code",
   "execution_count": 2,
   "id": "78d21ef4-8f8e-4c96-bcd7-911620f6959d",
   "metadata": {},
   "outputs": [],
   "source": [
    "from totsu.utils.tableau_visualizer import TableauVisualizer"
   ]
  },
  {
   "cell_type": "code",
   "execution_count": 3,
   "id": "9be31842-b9c7-4aec-83bd-ccc5f76d18df",
   "metadata": {},
   "outputs": [],
   "source": [
    "from totsu.examples.model_building_imp.examples.chp1_1_product_mix.product_mix import create_model, create_dual_model"
   ]
  },
  {
   "cell_type": "code",
   "execution_count": 4,
   "id": "14c71c5e-6a8a-45a1-bdae-9d9b5b55df00",
   "metadata": {},
   "outputs": [
    {
     "name": "stderr",
     "output_type": "stream",
     "text": [
      "2024-12-18 20:26:38,953 - totsu - INFO - Model solved successfully.\n"
     ]
    },
    {
     "data": {
      "text/html": [
       "\n",
       "        <iframe\n",
       "            width=\"100%\"\n",
       "            height=\"650\"\n",
       "            src=\"http://127.0.0.1:8050/\"\n",
       "            frameborder=\"0\"\n",
       "            allowfullscreen\n",
       "            \n",
       "        ></iframe>\n",
       "        "
      ],
      "text/plain": [
       "<IPython.lib.display.IFrame at 0x10e32f380>"
      ]
     },
     "metadata": {},
     "output_type": "display_data"
    },
    {
     "name": "stderr",
     "output_type": "stream",
     "text": [
      "2024-12-18 20:26:40,122 - totsu - INFO - Snapshot at iteration 0\n",
      "{'tableau': array([[ 12.,  20.,   0.,  25.,  15.,   1.,   0.,   0., 288.],\n",
      "       [ 10.,   8.,  16.,   0.,   0.,   0.,   1.,   0., 192.],\n",
      "       [ 20.,  20.,  20.,  20.,  20.,   0.,   0.,   1., 384.],\n",
      "       [  0.,   0.,   0.,   0.,   0.,   0.,   0.,   0.,   0.]]), 'entering_var_idx': None, 'leaving_var_idx': None, 'basis_vars': [5, 6, 7], 'objective_value': np.float64(0.0), 'pivot_col': None, 'pivot_row': None, 'optimality_status': True, 'feasibility_status': True, 'objective_row': array([0., 0., 0., 0., 0., 0., 0., 0.]), 'ratios': [], 'variable_names': ['x1', 'x2', 'x3', 'x4', 'x5', 'slack_5', 'slack_6', 'slack_7'], 'phase': 1}\n"
     ]
    }
   ],
   "source": [
    "use_dual = False\n",
    "# Create the model\n",
    "if use_dual:\n",
    "    model = create_dual_model()\n",
    "else:\n",
    "    model = create_model()\n",
    "\n",
    "# Initialize the solver\n",
    "solver = SuperSimplexSolver()\n",
    "\n",
    "# Visualize the solution\n",
    "visualizer = TableauVisualizer(model, solver, use_jupyter=True)\n",
    "try:\n",
    "    visualizer.solve_model()\n",
    "    visualizer.show_tableau_visualization()\n",
    "except:\n",
    "    print(\"Failed to solve the model and show the visualization\")"
   ]
  },
  {
   "cell_type": "code",
   "execution_count": 5,
   "id": "bbbc973a-96e6-4097-b4be-76120193f0b4",
   "metadata": {},
   "outputs": [],
   "source": [
    "from pyomo.environ import SolverFactory\n",
    "from totsu.utils.sensitivity_analyzer import SensitivityAnalyzer\n",
    "from totsu.core.totsu_simplex_solver import TotsuSimplexSolver # required to register"
   ]
  },
  {
   "cell_type": "code",
   "execution_count": 6,
   "id": "3a38e4ec-b785-4ac2-a4fe-cd3c0af5f76a",
   "metadata": {},
   "outputs": [
    {
     "data": {
      "text/html": [
       "\n",
       "        <iframe\n",
       "            width=\"100%\"\n",
       "            height=\"650\"\n",
       "            src=\"http://127.0.0.1:8050/\"\n",
       "            frameborder=\"0\"\n",
       "            allowfullscreen\n",
       "            \n",
       "        ></iframe>\n",
       "        "
      ],
      "text/plain": [
       "<IPython.lib.display.IFrame at 0x10e803b10>"
      ]
     },
     "metadata": {},
     "output_type": "display_data"
    },
    {
     "name": "stderr",
     "output_type": "stream",
     "text": [
      "2024-12-18 20:27:00,118 - totsu - INFO - Computation completed.\n"
     ]
    }
   ],
   "source": [
    "# Create the model\n",
    "if use_dual:\n",
    "    model = create_dual_model()\n",
    "else:\n",
    "    model = create_model()\n",
    "solver = SolverFactory(\"totsu\")\n",
    "\n",
    "visualizer = SensitivityAnalyzer(model, solver, use_jupyter=True)\n",
    "if visualizer.solve_primal():\n",
    "    visualizer.show_analyzer()\n",
    "else:\n",
    "    print(\"Failed to solve the primal model.\")"
   ]
  },
  {
   "cell_type": "code",
   "execution_count": null,
   "id": "9d3ed0fd-ee40-4f1b-a634-de43a976078a",
   "metadata": {},
   "outputs": [],
   "source": []
  }
 ],
 "metadata": {
  "kernelspec": {
   "display_name": "Python 3 (ipykernel)",
   "language": "python",
   "name": "python3"
  },
  "language_info": {
   "codemirror_mode": {
    "name": "ipython",
    "version": 3
   },
   "file_extension": ".py",
   "mimetype": "text/x-python",
   "name": "python",
   "nbconvert_exporter": "python",
   "pygments_lexer": "ipython3",
   "version": "3.13.0"
  }
 },
 "nbformat": 4,
 "nbformat_minor": 5
}
